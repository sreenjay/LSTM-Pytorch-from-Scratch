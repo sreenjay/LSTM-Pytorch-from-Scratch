{
 "cells": [
  {
   "cell_type": "code",
   "execution_count": 1,
   "id": "693f9724",
   "metadata": {},
   "outputs": [
    {
     "name": "stdout",
     "output_type": "stream",
     "text": [
      "cuda\n"
     ]
    }
   ],
   "source": [
    "import nltk\n",
    "import torch\n",
    "import matplotlib.pyplot as plt\n",
    "import numpy as np\n",
    "import pandas as pd\n",
    "import re\n",
    "import string\n",
    "from sklearn.preprocessing import LabelEncoder\n",
    "from sklearn.model_selection import train_test_split\n",
    "from nltk.tokenize import word_tokenize\n",
    "from torch.utils.data import DataLoader, Dataset\n",
    "from RNN import CustomLSTM\n",
    "from Pytorch_utils import SaveBestModel, LrScheduler, EarlyStopping\n",
    "from tqdm import tqdm\n",
    "from sklearn.metrics import f1_score, precision_score, recall_score, roc_auc_score, confusion_matrix, classification_report\n",
    "import matplotlib as mpl\n",
    "\n",
    "\n",
    "device = torch.device(\"cuda\" if torch.cuda.is_available() else \"cpu\")\n",
    "print(device)"
   ]
  },
  {
   "cell_type": "code",
   "execution_count": 2,
   "id": "c4e76cc2",
   "metadata": {},
   "outputs": [
    {
     "data": {
      "text/html": [
       "<div>\n",
       "<style scoped>\n",
       "    .dataframe tbody tr th:only-of-type {\n",
       "        vertical-align: middle;\n",
       "    }\n",
       "\n",
       "    .dataframe tbody tr th {\n",
       "        vertical-align: top;\n",
       "    }\n",
       "\n",
       "    .dataframe thead th {\n",
       "        text-align: right;\n",
       "    }\n",
       "</style>\n",
       "<table border=\"1\" class=\"dataframe\">\n",
       "  <thead>\n",
       "    <tr style=\"text-align: right;\">\n",
       "      <th></th>\n",
       "      <th>Class Index</th>\n",
       "      <th>Title</th>\n",
       "      <th>Description</th>\n",
       "    </tr>\n",
       "  </thead>\n",
       "  <tbody>\n",
       "    <tr>\n",
       "      <th>0</th>\n",
       "      <td>3</td>\n",
       "      <td>Wall St. Bears Claw Back Into the Black (Reuters)</td>\n",
       "      <td>Reuters - Short-sellers, Wall Street's dwindli...</td>\n",
       "    </tr>\n",
       "    <tr>\n",
       "      <th>1</th>\n",
       "      <td>3</td>\n",
       "      <td>Carlyle Looks Toward Commercial Aerospace (Reu...</td>\n",
       "      <td>Reuters - Private investment firm Carlyle Grou...</td>\n",
       "    </tr>\n",
       "    <tr>\n",
       "      <th>2</th>\n",
       "      <td>3</td>\n",
       "      <td>Oil and Economy Cloud Stocks' Outlook (Reuters)</td>\n",
       "      <td>Reuters - Soaring crude prices plus worries\\ab...</td>\n",
       "    </tr>\n",
       "    <tr>\n",
       "      <th>3</th>\n",
       "      <td>3</td>\n",
       "      <td>Iraq Halts Oil Exports from Main Southern Pipe...</td>\n",
       "      <td>Reuters - Authorities have halted oil export\\f...</td>\n",
       "    </tr>\n",
       "    <tr>\n",
       "      <th>4</th>\n",
       "      <td>3</td>\n",
       "      <td>Oil prices soar to all-time record, posing new...</td>\n",
       "      <td>AFP - Tearaway world oil prices, toppling reco...</td>\n",
       "    </tr>\n",
       "    <tr>\n",
       "      <th>5</th>\n",
       "      <td>3</td>\n",
       "      <td>Stocks End Up, But Near Year Lows (Reuters)</td>\n",
       "      <td>Reuters - Stocks ended slightly higher on Frid...</td>\n",
       "    </tr>\n",
       "    <tr>\n",
       "      <th>6</th>\n",
       "      <td>3</td>\n",
       "      <td>Money Funds Fell in Latest Week (AP)</td>\n",
       "      <td>AP - Assets of the nation's retail money marke...</td>\n",
       "    </tr>\n",
       "    <tr>\n",
       "      <th>7</th>\n",
       "      <td>3</td>\n",
       "      <td>Fed minutes show dissent over inflation (USATO...</td>\n",
       "      <td>USATODAY.com - Retail sales bounced back a bit...</td>\n",
       "    </tr>\n",
       "    <tr>\n",
       "      <th>8</th>\n",
       "      <td>3</td>\n",
       "      <td>Safety Net (Forbes.com)</td>\n",
       "      <td>Forbes.com - After earning a PH.D. in Sociolog...</td>\n",
       "    </tr>\n",
       "    <tr>\n",
       "      <th>9</th>\n",
       "      <td>3</td>\n",
       "      <td>Wall St. Bears Claw Back Into the Black</td>\n",
       "      <td>NEW YORK (Reuters) - Short-sellers, Wall Stre...</td>\n",
       "    </tr>\n",
       "  </tbody>\n",
       "</table>\n",
       "</div>"
      ],
      "text/plain": [
       "   Class Index                                              Title  \\\n",
       "0            3  Wall St. Bears Claw Back Into the Black (Reuters)   \n",
       "1            3  Carlyle Looks Toward Commercial Aerospace (Reu...   \n",
       "2            3    Oil and Economy Cloud Stocks' Outlook (Reuters)   \n",
       "3            3  Iraq Halts Oil Exports from Main Southern Pipe...   \n",
       "4            3  Oil prices soar to all-time record, posing new...   \n",
       "5            3        Stocks End Up, But Near Year Lows (Reuters)   \n",
       "6            3               Money Funds Fell in Latest Week (AP)   \n",
       "7            3  Fed minutes show dissent over inflation (USATO...   \n",
       "8            3                            Safety Net (Forbes.com)   \n",
       "9            3            Wall St. Bears Claw Back Into the Black   \n",
       "\n",
       "                                         Description  \n",
       "0  Reuters - Short-sellers, Wall Street's dwindli...  \n",
       "1  Reuters - Private investment firm Carlyle Grou...  \n",
       "2  Reuters - Soaring crude prices plus worries\\ab...  \n",
       "3  Reuters - Authorities have halted oil export\\f...  \n",
       "4  AFP - Tearaway world oil prices, toppling reco...  \n",
       "5  Reuters - Stocks ended slightly higher on Frid...  \n",
       "6  AP - Assets of the nation's retail money marke...  \n",
       "7  USATODAY.com - Retail sales bounced back a bit...  \n",
       "8  Forbes.com - After earning a PH.D. in Sociolog...  \n",
       "9   NEW YORK (Reuters) - Short-sellers, Wall Stre...  "
      ]
     },
     "execution_count": 2,
     "metadata": {},
     "output_type": "execute_result"
    }
   ],
   "source": [
    "df = pd.read_csv(\"./data/train.csv\")\n",
    "df_test = pd.read_csv(\"./data/test.csv\")\n",
    "df.head(10)"
   ]
  },
  {
   "cell_type": "code",
   "execution_count": 3,
   "id": "7015964d",
   "metadata": {},
   "outputs": [],
   "source": [
    "class CleanText:\n",
    "    \n",
    "    def __init__(self):\n",
    "        super().__init__()\n",
    "        self.regex_html = re.compile('<.*?>|&([a-z0-9]+|#[0-9]{1,6}|#x[0-9a-f]{1,6});')\n",
    "        self.remove_digits = str.maketrans('', '', string.digits + string.punctuation)\n",
    "        \n",
    "        \n",
    "    def __call__(self, text):\n",
    "        text = re.sub(self.regex_html, '', text)\n",
    "        text = text.translate(self.remove_digits)\n",
    "        return ' '.join(re.sub(\"(@[A-Za-z0-9]+)|([^0-9A-Za-z \\t])|(\\w+:\\/\\/\\S+)\", \" \", text).split()).lower()"
   ]
  },
  {
   "cell_type": "code",
   "execution_count": 4,
   "id": "9c85fd0f",
   "metadata": {},
   "outputs": [],
   "source": [
    "clean_text = CleanText()\n",
    "df['Text'] = (df.Title + \" \" + df.Description).apply(clean_text)\n",
    "df.drop(['Title', 'Description'], axis=1, inplace=True)\n",
    "le = LabelEncoder().fit(df['Class Index'])\n",
    "df['label'] = le.transform(df['Class Index'])"
   ]
  },
  {
   "cell_type": "code",
   "execution_count": 5,
   "id": "ba764574",
   "metadata": {},
   "outputs": [],
   "source": [
    "train, val = train_test_split(df, test_size=0.2, random_state=42, stratify=df.label)"
   ]
  },
  {
   "cell_type": "code",
   "execution_count": 6,
   "id": "02d0675f",
   "metadata": {},
   "outputs": [
    {
     "name": "stdout",
     "output_type": "stream",
     "text": [
      "(96000, 3) (24000, 3)\n"
     ]
    }
   ],
   "source": [
    "print(train.shape, val.shape)"
   ]
  },
  {
   "cell_type": "code",
   "execution_count": 7,
   "id": "2b3181d8",
   "metadata": {},
   "outputs": [],
   "source": [
    "class Vocabulary:\n",
    "    \n",
    "    def __init__(self, frequency_threshold):\n",
    "        self.frequency_threshold = frequency_threshold\n",
    "        self.tokens_to_idx = {'<PAD>': 0, '<UNK>': 1}\n",
    "        self.idx_to_tokens = {v:k for k,v in self.tokens_to_idx.items()}\n",
    "        assert len(self.tokens_to_idx) == len(self.idx_to_tokens)\n",
    "        \n",
    "    \n",
    "    def __len__(self):\n",
    "        return len(self.tokens_to_id)\n",
    "    \n",
    "    def build_vocabulary(self, text):\n",
    "        frequencies = {}\n",
    "        idx = 2\n",
    "        for sent in text:\n",
    "            tokenized_sent = word_tokenize(sent)\n",
    "            for word in tokenized_sent:\n",
    "                if word in frequencies:\n",
    "                    frequencies[word] += 1\n",
    "                else:\n",
    "                    frequencies[word] = 0\n",
    "        # limit vocabulary by removing lower frequency words\n",
    "        frequencies = {k:v for k, v in frequencies.items() if v > self.frequency_threshold}\n",
    "        \n",
    "        for word, freq in frequencies.items():\n",
    "            self.tokens_to_idx[word] = idx\n",
    "            self.idx_to_tokens[idx] = word\n",
    "            idx += 1\n",
    "            \n",
    "    def numeralize(self, sent):\n",
    "        tokenized_sent = word_tokenize(sent)\n",
    "        numeralized_sent = []\n",
    "        for word in tokenized_sent:\n",
    "            if word in self.tokens_to_idx.keys():\n",
    "                numeralized_sent.append(self.tokens_to_idx[word])\n",
    "            else:\n",
    "                numeralized_sent.append(self.tokens_to_idx['<UNK>'])\n",
    "        return numeralized_sent"
   ]
  },
  {
   "cell_type": "code",
   "execution_count": 8,
   "id": "411c190c",
   "metadata": {},
   "outputs": [],
   "source": [
    "vocab = Vocabulary(4)\n",
    "vocab.build_vocabulary(train.Text.values)"
   ]
  },
  {
   "cell_type": "code",
   "execution_count": 9,
   "id": "6bb8fe52",
   "metadata": {},
   "outputs": [],
   "source": [
    "class SpamClassificationDataset(Dataset):\n",
    "    \n",
    "    def __init__(self, dataframe):\n",
    "        super().__init__()\n",
    "        self.X, self.Y = dataframe.Text.values, dataframe['label'].values\n",
    "        \n",
    "    \n",
    "    def __len__(self):\n",
    "        return len(self.Y)\n",
    "    \n",
    "    \n",
    "    def __getitem__(self, index):\n",
    "        return torch.tensor(vocab.numeralize(self.X[index])), self.Y[index]"
   ]
  },
  {
   "cell_type": "code",
   "execution_count": 10,
   "id": "f980baa2",
   "metadata": {},
   "outputs": [],
   "source": [
    "train_data = SpamClassificationDataset(train)\n",
    "val_data = SpamClassificationDataset(val)"
   ]
  },
  {
   "cell_type": "code",
   "execution_count": 11,
   "id": "7c8fb5ea",
   "metadata": {},
   "outputs": [
    {
     "data": {
      "text/plain": [
       "((tensor([ 2,  3,  4,  5,  6,  7,  8,  9, 10, 11, 12,  2, 13,  3,  4, 14, 15, 16,\n",
       "          17, 14,  6, 18, 19,  1, 20, 21, 22, 21, 23, 24,  8, 25, 26, 27]),\n",
       "  1),\n",
       " (tensor([  298,  7862, 10234,    26,    34,  4960,  4345,   255,    86,    17,\n",
       "              1,   103,     1,    51,    14,  4742,    17,  3062,  2745,  3563,\n",
       "             19, 15623,    34,  1400,    17,  8567,   609,    51,   174,   426]),\n",
       "  2))"
      ]
     },
     "execution_count": 11,
     "metadata": {},
     "output_type": "execute_result"
    }
   ],
   "source": [
    "train_data[0], val_data[0]"
   ]
  },
  {
   "cell_type": "code",
   "execution_count": 12,
   "id": "b78c7abf",
   "metadata": {},
   "outputs": [],
   "source": [
    "class MyCollate:\n",
    "    \n",
    "    def __init__(self, pad_idx, max_len=25):\n",
    "        self.pad_idx = pad_idx\n",
    "        self.max_len = max_len\n",
    "        \n",
    "    \n",
    "    def __call__(self, batch):\n",
    "        xx, yy = zip(*batch)\n",
    "        xx = [sent[:self.max_len] if len(sent) > self.max_len else sent for i, sent in enumerate(xx)]\n",
    "        xx = torch.nn.utils.rnn.pad_sequence(xx, batch_first=True, padding_value=self.pad_idx)\n",
    "        return xx, torch.tensor(yy)"
   ]
  },
  {
   "cell_type": "code",
   "execution_count": 13,
   "id": "03463216",
   "metadata": {},
   "outputs": [],
   "source": [
    "BATCH_SIZE= 1024\n",
    "train_dataloader = DataLoader(dataset=train_data, batch_size=BATCH_SIZE, shuffle=True,\n",
    "                              collate_fn=MyCollate(pad_idx=vocab.tokens_to_idx['<PAD>'], max_len=25))\n",
    "val_dataloader = DataLoader(dataset=val_data, batch_size=BATCH_SIZE, collate_fn=MyCollate(pad_idx=vocab.tokens_to_idx['<PAD>'], max_len=25))"
   ]
  },
  {
   "cell_type": "code",
   "execution_count": 14,
   "id": "b5f5068e",
   "metadata": {},
   "outputs": [
    {
     "data": {
      "text/plain": [
       "(torch.Size([1024, 25]), torch.Size([1024]))"
      ]
     },
     "execution_count": 14,
     "metadata": {},
     "output_type": "execute_result"
    }
   ],
   "source": [
    "iterable = iter(train_dataloader)\n",
    "text, label = iterable.next()\n",
    "text.shape, label.shape"
   ]
  },
  {
   "cell_type": "code",
   "execution_count": 15,
   "id": "318dcf1d",
   "metadata": {},
   "outputs": [
    {
     "data": {
      "text/plain": [
       "(torch.Size([1024, 25]), torch.Size([1024]))"
      ]
     },
     "execution_count": 15,
     "metadata": {},
     "output_type": "execute_result"
    }
   ],
   "source": [
    "iterable = iter(val_dataloader)\n",
    "text, label = iterable.next()\n",
    "text.shape, label.shape"
   ]
  },
  {
   "cell_type": "code",
   "execution_count": 16,
   "id": "132d2c7b",
   "metadata": {},
   "outputs": [],
   "source": [
    "class LSTMClassifier(torch.nn.Module):\n",
    "    \n",
    "    def __init__(self, input_dim, hidden_dim, num_classes, num_layers, bidirectional=False):\n",
    "        super().__init__()\n",
    "        self.input_dim = input_dim\n",
    "        self.hidden_dim = hidden_dim\n",
    "        self.num_layers = num_layers\n",
    "        self.num_directions = 2 if bidirectional else 1\n",
    "        \n",
    "        self.embedding_layer = torch.nn.Embedding(num_embeddings=len(vocab.tokens_to_idx), embedding_dim=self.input_dim)\n",
    "        self.rnn  = CustomLSTM(self.input_dim, self.hidden_dim, self.num_layers, batch_first=True, bidirectional=bidirectional)\n",
    "        self.linear = torch.nn.Linear(hidden_dim*self.num_directions, num_classes)\n",
    "    \n",
    "    def forward(self, input_tensor):\n",
    "        batch_size, self.input_dim = input_tensor.shape\n",
    "        hidden_tensor = torch.randn(self.num_layers*self.num_directions, batch_size, self.hidden_dim).to(device)\n",
    "        cell_state = torch.randn(self.num_layers*self.num_directions, batch_size, self.hidden_dim).to(device)\n",
    "        embeddings = self.embedding_layer(input_tensor)\n",
    "        output, _ = self.rnn(embeddings, (hidden_tensor, cell_state))\n",
    "        output = self.linear(output[:, -1])\n",
    "        return output"
   ]
  },
  {
   "cell_type": "code",
   "execution_count": 17,
   "id": "158ab9f0",
   "metadata": {},
   "outputs": [],
   "source": [
    "def fit(model, train_loader, optimizer, criterion):\n",
    "    batch_losses, batch_accuracies = [], []\n",
    "    prog_bar = tqdm(enumerate(train_loader), total=len(train_loader), leave=True, desc=\"Training Set: \")\n",
    "    for i, (X_batch, labels) in prog_bar:\n",
    "        # load data and labels to device\n",
    "        X_batch = X_batch.to(device)\n",
    "        labels = labels.to(device)\n",
    "        out = model(X_batch) # run the model\n",
    "        loss = criterion(out, labels)  # calculate loss\n",
    "        batch_losses.append(loss.item())  # store batch loss into list\n",
    "        _, y_pred = torch.max(out.data, dim=1)  # calculate the max of the softmax output\n",
    "        batch_accuracies.append((y_pred == labels).sum().item() / len(labels))  # store batch accuracies to list\n",
    "        optimizer.zero_grad()\n",
    "        loss.backward()   # Backpropagate the error\n",
    "        optimizer.step()  # One step of prefered optimization\n",
    "    \n",
    "    train_loss = np.mean(batch_losses)\n",
    "    train_acc = 100 * np.mean(batch_accuracies)\n",
    "    \n",
    "    return train_loss, train_acc"
   ]
  },
  {
   "cell_type": "code",
   "execution_count": 18,
   "id": "bec47c9e",
   "metadata": {},
   "outputs": [],
   "source": [
    "def validate(model, val_loader, criterion):\n",
    "    \n",
    "    with torch.no_grad():\n",
    "        val_losses, val_accuracies = [], []\n",
    "        prog_bar = tqdm(enumerate(val_loader), total=len(val_loader), leave=True, desc=\"Validation Set: \")\n",
    "        for i, (input_data, labels) in prog_bar:\n",
    "            input_data = input_data.to(device)\n",
    "            labels = labels.to(device)\n",
    "            out = model(input_data)\n",
    "            loss = criterion(out, labels)\n",
    "            _, y_pred = torch.max(out.data, dim=1)\n",
    "            val_losses.append(loss.item())\n",
    "            val_accuracies.append(torch.sum(y_pred == labels).item() / len(labels))\n",
    "        \n",
    "        val_loss = np.mean(val_losses)\n",
    "        val_acc = 100 * np.mean(val_accuracies)\n",
    "    return val_loss, val_acc"
   ]
  },
  {
   "cell_type": "code",
   "execution_count": 19,
   "id": "8f4c0604",
   "metadata": {},
   "outputs": [],
   "source": [
    "def model_train(model, train_loader, val_loader, num_epochs, learning_rate, criterion, early_stop=False):\n",
    "    train_loss_list, train_acc_list = [], []\n",
    "    val_loss_list, val_acc_list = [], []\n",
    "    \n",
    "    save_best_model = SaveBestModel()\n",
    "    \n",
    "    optimizer = torch.optim.Adam(model.parameters(), lr=learning_rate)\n",
    "    lr_scheduler = LrScheduler(optimizer, patience=5)\n",
    "    if early_stop:\n",
    "        early_stopping = EarlyStopping(patience=10)\n",
    "    \n",
    "    for epoch in range(num_epochs):\n",
    "        train_loss, train_acc = fit(model, train_loader, optimizer, criterion)\n",
    "        val_loss, val_acc = validate(model, val_loader, criterion)\n",
    "        \n",
    "        train_loss_list.append(train_loss), train_acc_list.append(train_acc)\n",
    "        val_loss_list.append(val_loss), val_acc_list.append(val_acc)\n",
    "        \n",
    "        lr_scheduler(val_loss)\n",
    "        lr = optimizer.param_groups[0][\"lr\"]\n",
    "        \n",
    "        print(f\"\"\"Traing Set :\\nEpoch :{epoch+1}/{num_epochs}, \\tloss : {train_loss:.3f}, \\\n",
    "                \\tAccuracy:{train_acc:.2f}%, \\tLearning Rate : {lr}\"\"\")\n",
    "        print(f\"\"\"Validation Set :\\nEpoch :{epoch+1}/{num_epochs}, \\tLoss : {val_loss:.3f},\\t Accuracy :  {val_acc:.2f}%\"\"\")\n",
    "        \n",
    "        save_best_model(val_loss, epoch, model, optimizer, criterion)\n",
    "        \n",
    "        if early_stopping:\n",
    "            early_stopping(val_loss)\n",
    "            if early_stopping.early_stop:\n",
    "                break\n",
    "        \n",
    "    return model, train_loss_list, train_acc_list, val_loss_list, val_acc_list"
   ]
  },
  {
   "cell_type": "code",
   "execution_count": 20,
   "id": "d25e50cf",
   "metadata": {},
   "outputs": [
    {
     "name": "stderr",
     "output_type": "stream",
     "text": [
      "Training Set: 100%|████████████████████████████████████████████████████████████████████| 94/94 [00:41<00:00,  2.27it/s]\n",
      "Validation Set: 100%|██████████████████████████████████████████████████████████████████| 24/24 [00:06<00:00,  3.67it/s]\n"
     ]
    },
    {
     "name": "stdout",
     "output_type": "stream",
     "text": [
      "Traing Set :\n",
      "Epoch :1/30, \tloss : 1.320,                 \tAccuracy:35.57%, \tLearning Rate : 0.001\n",
      "Validation Set :\n",
      "Epoch :1/30, \tLoss : 1.135,\t Accuracy :  50.52%\n",
      "\n",
      "Best validation loss: 1.135\n",
      "\n",
      "Saving best model for epoch: 1\n",
      "\n"
     ]
    },
    {
     "name": "stderr",
     "output_type": "stream",
     "text": [
      "Training Set: 100%|████████████████████████████████████████████████████████████████████| 94/94 [00:39<00:00,  2.36it/s]\n",
      "Validation Set: 100%|██████████████████████████████████████████████████████████████████| 24/24 [00:08<00:00,  2.97it/s]\n"
     ]
    },
    {
     "name": "stdout",
     "output_type": "stream",
     "text": [
      "Traing Set :\n",
      "Epoch :2/30, \tloss : 0.893,                 \tAccuracy:64.47%, \tLearning Rate : 0.001\n",
      "Validation Set :\n",
      "Epoch :2/30, \tLoss : 0.703,\t Accuracy :  74.32%\n",
      "\n",
      "Best validation loss: 0.703\n",
      "\n",
      "Saving best model for epoch: 2\n",
      "\n"
     ]
    },
    {
     "name": "stderr",
     "output_type": "stream",
     "text": [
      "Training Set: 100%|████████████████████████████████████████████████████████████████████| 94/94 [00:34<00:00,  2.72it/s]\n",
      "Validation Set: 100%|██████████████████████████████████████████████████████████████████| 24/24 [00:06<00:00,  3.51it/s]\n"
     ]
    },
    {
     "name": "stdout",
     "output_type": "stream",
     "text": [
      "Traing Set :\n",
      "Epoch :3/30, \tloss : 0.600,                 \tAccuracy:78.36%, \tLearning Rate : 0.001\n",
      "Validation Set :\n",
      "Epoch :3/30, \tLoss : 0.543,\t Accuracy :  80.75%\n",
      "\n",
      "Best validation loss: 0.543\n",
      "\n",
      "Saving best model for epoch: 3\n",
      "\n"
     ]
    },
    {
     "name": "stderr",
     "output_type": "stream",
     "text": [
      "Training Set: 100%|████████████████████████████████████████████████████████████████████| 94/94 [00:33<00:00,  2.82it/s]\n",
      "Validation Set: 100%|██████████████████████████████████████████████████████████████████| 24/24 [00:06<00:00,  3.65it/s]\n"
     ]
    },
    {
     "name": "stdout",
     "output_type": "stream",
     "text": [
      "Traing Set :\n",
      "Epoch :4/30, \tloss : 0.482,                 \tAccuracy:83.01%, \tLearning Rate : 0.001\n",
      "Validation Set :\n",
      "Epoch :4/30, \tLoss : 0.475,\t Accuracy :  83.48%\n",
      "\n",
      "Best validation loss: 0.475\n",
      "\n",
      "Saving best model for epoch: 4\n",
      "\n"
     ]
    },
    {
     "name": "stderr",
     "output_type": "stream",
     "text": [
      "Training Set: 100%|████████████████████████████████████████████████████████████████████| 94/94 [00:33<00:00,  2.81it/s]\n",
      "Validation Set: 100%|██████████████████████████████████████████████████████████████████| 24/24 [00:06<00:00,  3.53it/s]\n"
     ]
    },
    {
     "name": "stdout",
     "output_type": "stream",
     "text": [
      "Traing Set :\n",
      "Epoch :5/30, \tloss : 0.418,                 \tAccuracy:85.55%, \tLearning Rate : 0.001\n",
      "Validation Set :\n",
      "Epoch :5/30, \tLoss : 0.435,\t Accuracy :  84.99%\n",
      "\n",
      "Best validation loss: 0.435\n",
      "\n",
      "Saving best model for epoch: 5\n",
      "\n"
     ]
    },
    {
     "name": "stderr",
     "output_type": "stream",
     "text": [
      "Training Set: 100%|████████████████████████████████████████████████████████████████████| 94/94 [00:33<00:00,  2.85it/s]\n",
      "Validation Set: 100%|██████████████████████████████████████████████████████████████████| 24/24 [00:06<00:00,  3.83it/s]\n"
     ]
    },
    {
     "name": "stdout",
     "output_type": "stream",
     "text": [
      "Traing Set :\n",
      "Epoch :6/30, \tloss : 0.376,                 \tAccuracy:87.11%, \tLearning Rate : 0.001\n",
      "Validation Set :\n",
      "Epoch :6/30, \tLoss : 0.413,\t Accuracy :  85.95%\n",
      "\n",
      "Best validation loss: 0.413\n",
      "\n",
      "Saving best model for epoch: 6\n",
      "\n"
     ]
    },
    {
     "name": "stderr",
     "output_type": "stream",
     "text": [
      "Training Set: 100%|████████████████████████████████████████████████████████████████████| 94/94 [00:33<00:00,  2.80it/s]\n",
      "Validation Set: 100%|██████████████████████████████████████████████████████████████████| 24/24 [00:07<00:00,  3.29it/s]\n"
     ]
    },
    {
     "name": "stdout",
     "output_type": "stream",
     "text": [
      "Traing Set :\n",
      "Epoch :7/30, \tloss : 0.344,                 \tAccuracy:88.28%, \tLearning Rate : 0.001\n",
      "Validation Set :\n",
      "Epoch :7/30, \tLoss : 0.393,\t Accuracy :  86.70%\n",
      "\n",
      "Best validation loss: 0.393\n",
      "\n",
      "Saving best model for epoch: 7\n",
      "\n"
     ]
    },
    {
     "name": "stderr",
     "output_type": "stream",
     "text": [
      "Training Set: 100%|████████████████████████████████████████████████████████████████████| 94/94 [00:34<00:00,  2.69it/s]\n",
      "Validation Set: 100%|██████████████████████████████████████████████████████████████████| 24/24 [00:07<00:00,  3.24it/s]\n"
     ]
    },
    {
     "name": "stdout",
     "output_type": "stream",
     "text": [
      "Traing Set :\n",
      "Epoch :8/30, \tloss : 0.319,                 \tAccuracy:89.28%, \tLearning Rate : 0.001\n",
      "Validation Set :\n",
      "Epoch :8/30, \tLoss : 0.382,\t Accuracy :  87.18%\n",
      "\n",
      "Best validation loss: 0.382\n",
      "\n",
      "Saving best model for epoch: 8\n",
      "\n"
     ]
    },
    {
     "name": "stderr",
     "output_type": "stream",
     "text": [
      "Training Set: 100%|████████████████████████████████████████████████████████████████████| 94/94 [00:34<00:00,  2.71it/s]\n",
      "Validation Set: 100%|██████████████████████████████████████████████████████████████████| 24/24 [00:06<00:00,  3.49it/s]\n"
     ]
    },
    {
     "name": "stdout",
     "output_type": "stream",
     "text": [
      "Traing Set :\n",
      "Epoch :9/30, \tloss : 0.298,                 \tAccuracy:89.96%, \tLearning Rate : 0.001\n",
      "Validation Set :\n",
      "Epoch :9/30, \tLoss : 0.376,\t Accuracy :  87.43%\n",
      "\n",
      "Best validation loss: 0.376\n",
      "\n",
      "Saving best model for epoch: 9\n",
      "\n"
     ]
    },
    {
     "name": "stderr",
     "output_type": "stream",
     "text": [
      "Training Set: 100%|████████████████████████████████████████████████████████████████████| 94/94 [00:34<00:00,  2.70it/s]\n",
      "Validation Set: 100%|██████████████████████████████████████████████████████████████████| 24/24 [00:06<00:00,  3.58it/s]\n"
     ]
    },
    {
     "name": "stdout",
     "output_type": "stream",
     "text": [
      "Traing Set :\n",
      "Epoch :10/30, \tloss : 0.279,                 \tAccuracy:90.64%, \tLearning Rate : 0.001\n",
      "Validation Set :\n",
      "Epoch :10/30, \tLoss : 0.363,\t Accuracy :  87.88%\n",
      "\n",
      "Best validation loss: 0.363\n",
      "\n",
      "Saving best model for epoch: 10\n",
      "\n"
     ]
    },
    {
     "name": "stderr",
     "output_type": "stream",
     "text": [
      "Training Set: 100%|████████████████████████████████████████████████████████████████████| 94/94 [00:34<00:00,  2.70it/s]\n",
      "Validation Set: 100%|██████████████████████████████████████████████████████████████████| 24/24 [00:06<00:00,  3.43it/s]\n"
     ]
    },
    {
     "name": "stdout",
     "output_type": "stream",
     "text": [
      "Traing Set :\n",
      "Epoch :11/30, \tloss : 0.263,                 \tAccuracy:91.34%, \tLearning Rate : 0.001\n",
      "Validation Set :\n",
      "Epoch :11/30, \tLoss : 0.362,\t Accuracy :  88.13%\n",
      "\n",
      "Best validation loss: 0.362\n",
      "\n",
      "Saving best model for epoch: 11\n",
      "\n"
     ]
    },
    {
     "name": "stderr",
     "output_type": "stream",
     "text": [
      "Training Set: 100%|████████████████████████████████████████████████████████████████████| 94/94 [00:34<00:00,  2.75it/s]\n",
      "Validation Set: 100%|██████████████████████████████████████████████████████████████████| 24/24 [00:06<00:00,  3.49it/s]\n"
     ]
    },
    {
     "name": "stdout",
     "output_type": "stream",
     "text": [
      "Traing Set :\n",
      "Epoch :12/30, \tloss : 0.250,                 \tAccuracy:91.67%, \tLearning Rate : 0.001\n",
      "Validation Set :\n",
      "Epoch :12/30, \tLoss : 0.359,\t Accuracy :  88.34%\n",
      "\n",
      "Best validation loss: 0.359\n",
      "\n",
      "Saving best model for epoch: 12\n",
      "\n"
     ]
    },
    {
     "name": "stderr",
     "output_type": "stream",
     "text": [
      "Training Set: 100%|████████████████████████████████████████████████████████████████████| 94/94 [00:34<00:00,  2.69it/s]\n",
      "Validation Set: 100%|██████████████████████████████████████████████████████████████████| 24/24 [00:06<00:00,  3.47it/s]\n"
     ]
    },
    {
     "name": "stdout",
     "output_type": "stream",
     "text": [
      "Traing Set :\n",
      "Epoch :13/30, \tloss : 0.237,                 \tAccuracy:92.19%, \tLearning Rate : 0.001\n",
      "Validation Set :\n",
      "Epoch :13/30, \tLoss : 0.357,\t Accuracy :  88.22%\n",
      "\n",
      "Best validation loss: 0.357\n",
      "\n",
      "Saving best model for epoch: 13\n",
      "\n"
     ]
    },
    {
     "name": "stderr",
     "output_type": "stream",
     "text": [
      "Training Set: 100%|████████████████████████████████████████████████████████████████████| 94/94 [00:36<00:00,  2.59it/s]\n",
      "Validation Set: 100%|██████████████████████████████████████████████████████████████████| 24/24 [00:06<00:00,  3.50it/s]\n"
     ]
    },
    {
     "name": "stdout",
     "output_type": "stream",
     "text": [
      "Traing Set :\n",
      "Epoch :14/30, \tloss : 0.225,                 \tAccuracy:92.59%, \tLearning Rate : 0.001\n",
      "Validation Set :\n",
      "Epoch :14/30, \tLoss : 0.354,\t Accuracy :  88.53%\n",
      "\n",
      "Best validation loss: 0.354\n",
      "\n",
      "Saving best model for epoch: 14\n",
      "\n"
     ]
    },
    {
     "name": "stderr",
     "output_type": "stream",
     "text": [
      "Training Set: 100%|████████████████████████████████████████████████████████████████████| 94/94 [00:35<00:00,  2.63it/s]\n",
      "Validation Set: 100%|██████████████████████████████████████████████████████████████████| 24/24 [00:07<00:00,  3.38it/s]\n"
     ]
    },
    {
     "name": "stdout",
     "output_type": "stream",
     "text": [
      "Traing Set :\n",
      "Epoch :15/30, \tloss : 0.213,                 \tAccuracy:92.97%, \tLearning Rate : 0.001\n",
      "Validation Set :\n",
      "Epoch :15/30, \tLoss : 0.356,\t Accuracy :  88.57%\n",
      "INFO: Early stopping counter: 1 of patience: 10\n"
     ]
    },
    {
     "name": "stderr",
     "output_type": "stream",
     "text": [
      "Training Set: 100%|████████████████████████████████████████████████████████████████████| 94/94 [00:35<00:00,  2.63it/s]\n",
      "Validation Set: 100%|██████████████████████████████████████████████████████████████████| 24/24 [00:07<00:00,  3.29it/s]\n"
     ]
    },
    {
     "name": "stdout",
     "output_type": "stream",
     "text": [
      "Traing Set :\n",
      "Epoch :16/30, \tloss : 0.204,                 \tAccuracy:93.37%, \tLearning Rate : 0.001\n",
      "Validation Set :\n",
      "Epoch :16/30, \tLoss : 0.355,\t Accuracy :  88.59%\n",
      "INFO: Early stopping counter: 2 of patience: 10\n"
     ]
    },
    {
     "name": "stderr",
     "output_type": "stream",
     "text": [
      "Training Set: 100%|████████████████████████████████████████████████████████████████████| 94/94 [00:36<00:00,  2.54it/s]\n",
      "Validation Set: 100%|██████████████████████████████████████████████████████████████████| 24/24 [00:07<00:00,  3.21it/s]\n"
     ]
    },
    {
     "name": "stdout",
     "output_type": "stream",
     "text": [
      "Traing Set :\n",
      "Epoch :17/30, \tloss : 0.195,                 \tAccuracy:93.61%, \tLearning Rate : 0.001\n",
      "Validation Set :\n",
      "Epoch :17/30, \tLoss : 0.355,\t Accuracy :  88.59%\n",
      "INFO: Early stopping counter: 3 of patience: 10\n"
     ]
    },
    {
     "name": "stderr",
     "output_type": "stream",
     "text": [
      "Training Set: 100%|████████████████████████████████████████████████████████████████████| 94/94 [00:36<00:00,  2.56it/s]\n",
      "Validation Set: 100%|██████████████████████████████████████████████████████████████████| 24/24 [00:07<00:00,  3.07it/s]\n"
     ]
    },
    {
     "name": "stdout",
     "output_type": "stream",
     "text": [
      "Traing Set :\n",
      "Epoch :18/30, \tloss : 0.185,                 \tAccuracy:94.01%, \tLearning Rate : 0.001\n",
      "Validation Set :\n",
      "Epoch :18/30, \tLoss : 0.360,\t Accuracy :  88.75%\n",
      "INFO: Early stopping counter: 4 of patience: 10\n"
     ]
    },
    {
     "name": "stderr",
     "output_type": "stream",
     "text": [
      "Training Set: 100%|████████████████████████████████████████████████████████████████████| 94/94 [00:37<00:00,  2.53it/s]\n",
      "Validation Set: 100%|██████████████████████████████████████████████████████████████████| 24/24 [00:07<00:00,  3.01it/s]\n"
     ]
    },
    {
     "name": "stdout",
     "output_type": "stream",
     "text": [
      "Traing Set :\n",
      "Epoch :19/30, \tloss : 0.177,                 \tAccuracy:94.26%, \tLearning Rate : 0.001\n",
      "Validation Set :\n",
      "Epoch :19/30, \tLoss : 0.360,\t Accuracy :  88.90%\n",
      "INFO: Early stopping counter: 5 of patience: 10\n"
     ]
    },
    {
     "name": "stderr",
     "output_type": "stream",
     "text": [
      "Training Set: 100%|████████████████████████████████████████████████████████████████████| 94/94 [00:37<00:00,  2.48it/s]\n",
      "Validation Set: 100%|██████████████████████████████████████████████████████████████████| 24/24 [00:07<00:00,  3.04it/s]\n"
     ]
    },
    {
     "name": "stdout",
     "output_type": "stream",
     "text": [
      "Epoch 00020: reducing learning rate of group 0 to 5.0000e-04.\n",
      "Traing Set :\n",
      "Epoch :20/30, \tloss : 0.169,                 \tAccuracy:94.53%, \tLearning Rate : 0.0005\n",
      "Validation Set :\n",
      "Epoch :20/30, \tLoss : 0.366,\t Accuracy :  88.84%\n",
      "INFO: Early stopping counter: 6 of patience: 10\n"
     ]
    },
    {
     "name": "stderr",
     "output_type": "stream",
     "text": [
      "Training Set: 100%|████████████████████████████████████████████████████████████████████| 94/94 [00:38<00:00,  2.45it/s]\n",
      "Validation Set: 100%|██████████████████████████████████████████████████████████████████| 24/24 [00:08<00:00,  2.89it/s]\n"
     ]
    },
    {
     "name": "stdout",
     "output_type": "stream",
     "text": [
      "Traing Set :\n",
      "Epoch :21/30, \tloss : 0.158,                 \tAccuracy:94.97%, \tLearning Rate : 0.0005\n",
      "Validation Set :\n",
      "Epoch :21/30, \tLoss : 0.371,\t Accuracy :  88.77%\n",
      "INFO: Early stopping counter: 7 of patience: 10\n"
     ]
    },
    {
     "name": "stderr",
     "output_type": "stream",
     "text": [
      "Training Set: 100%|████████████████████████████████████████████████████████████████████| 94/94 [00:40<00:00,  2.31it/s]\n",
      "Validation Set: 100%|██████████████████████████████████████████████████████████████████| 24/24 [00:08<00:00,  2.75it/s]\n"
     ]
    },
    {
     "name": "stdout",
     "output_type": "stream",
     "text": [
      "Traing Set :\n",
      "Epoch :22/30, \tloss : 0.154,                 \tAccuracy:95.08%, \tLearning Rate : 0.0005\n",
      "Validation Set :\n",
      "Epoch :22/30, \tLoss : 0.373,\t Accuracy :  88.84%\n",
      "INFO: Early stopping counter: 8 of patience: 10\n"
     ]
    },
    {
     "name": "stderr",
     "output_type": "stream",
     "text": [
      "Training Set: 100%|██████████████████████████████████████████████████████████████████| 94/94 [1:04:41<00:00, 41.29s/it]\n",
      "Validation Set: 100%|██████████████████████████████████████████████████████████████████| 24/24 [00:06<00:00,  3.50it/s]\n"
     ]
    },
    {
     "name": "stdout",
     "output_type": "stream",
     "text": [
      "Traing Set :\n",
      "Epoch :23/30, \tloss : 0.151,                 \tAccuracy:95.20%, \tLearning Rate : 0.0005\n",
      "Validation Set :\n",
      "Epoch :23/30, \tLoss : 0.374,\t Accuracy :  88.81%\n",
      "INFO: Early stopping counter: 9 of patience: 10\n"
     ]
    },
    {
     "name": "stderr",
     "output_type": "stream",
     "text": [
      "Training Set: 100%|████████████████████████████████████████████████████████████████████| 94/94 [00:38<00:00,  2.44it/s]\n",
      "Validation Set: 100%|██████████████████████████████████████████████████████████████████| 24/24 [00:09<00:00,  2.47it/s]"
     ]
    },
    {
     "name": "stdout",
     "output_type": "stream",
     "text": [
      "Traing Set :\n",
      "Epoch :24/30, \tloss : 0.147,                 \tAccuracy:95.38%, \tLearning Rate : 0.0005\n",
      "Validation Set :\n",
      "Epoch :24/30, \tLoss : 0.373,\t Accuracy :  88.82%\n",
      "INFO: Early stopping counter: 10 of patience: 10\n"
     ]
    },
    {
     "name": "stderr",
     "output_type": "stream",
     "text": [
      "\n"
     ]
    }
   ],
   "source": [
    "INPUT_DIM = 50\n",
    "HIDDEN_DIM = 50\n",
    "NUM_CLASSES = 4\n",
    "NUM_LAYERS = 1\n",
    "NUM_EPOCHS = 30\n",
    "LEARNING_RATE = 0.001\n",
    "\n",
    "\n",
    "model = LSTMClassifier(INPUT_DIM, HIDDEN_DIM, NUM_CLASSES, NUM_LAYERS, bidirectional=True).to(device)\n",
    "criterion = torch.nn.CrossEntropyLoss()\n",
    "\n",
    "model, train_loss_list, train_acc_list, val_loss_list, val_acc_list = model_train(model, train_dataloader, val_dataloader, \n",
    "                                                                                  NUM_EPOCHS, LEARNING_RATE, \n",
    "                                                                                  criterion, early_stop=True)"
   ]
  },
  {
   "cell_type": "code",
   "execution_count": 21,
   "id": "87336494",
   "metadata": {},
   "outputs": [
    {
     "data": {
      "image/png": "[encoded data removed]",
      "text/plain": [
       "<Figure size 1000x500 with 1 Axes>"
      ]
     },
     "metadata": {},
     "output_type": "display_data"
    }
   ],
   "source": [
    "fig = plt.figure(figsize=(10,5))\n",
    "\n",
    "plt.plot(train_loss_list, label=\"Train loss\")\n",
    "plt.plot(val_loss_list, label=\"Validation loss\")\n",
    "plt.title(\"Loss : Train vs Validation\")\n",
    "plt.xlabel(\"Epochs\")\n",
    "plt.ylabel(\"Loss\")\n",
    "plt.legend(loc=\"best\")\n",
    "plt.show()"
   ]
  },
  {
   "cell_type": "code",
   "execution_count": 22,
   "id": "61537ad7",
   "metadata": {},
   "outputs": [
    {
     "data": {
      "image/png": "[encoded data removed]",
      "text/plain": [
       "<Figure size 1000x500 with 1 Axes>"
      ]
     },
     "metadata": {},
     "output_type": "display_data"
    }
   ],
   "source": [
    "fig = plt.figure(figsize=(10,5))\n",
    "\n",
    "plt.plot(train_acc_list, label=\"Train accuracy\")\n",
    "plt.plot(val_acc_list, label=\"Validation accuracy\")\n",
    "plt.title(\"Accuracy : Train vs Validation\")\n",
    "plt.xlabel(\"Epochs\")\n",
    "plt.ylabel(\"Accuracy\")\n",
    "plt.legend(loc='best')\n",
    "plt.show()"
   ]
  },
  {
   "cell_type": "markdown",
   "id": "4771d997",
   "metadata": {},
   "source": [
    "### Testing"
   ]
  },
  {
   "cell_type": "code",
   "execution_count": 23,
   "id": "a2830165",
   "metadata": {},
   "outputs": [],
   "source": [
    "def format_test_data(df):\n",
    "    df['Text'] = (df.Title + \" \" + df.Description).apply(clean_text)\n",
    "    df.drop(['Title', 'Description'], axis=1, inplace=True)\n",
    "    le = LabelEncoder().fit(df['Class Index'])\n",
    "    df['label'] = le.transform(df['Class Index'])\n",
    "    test_data = SpamClassificationDataset(df)\n",
    "    test_dataloader = DataLoader(dataset=test_data, batch_size=BATCH_SIZE, \n",
    "                                collate_fn=MyCollate(pad_idx=vocab.tokens_to_idx['<PAD>'], max_len=25))\n",
    "    return test_dataloader"
   ]
  },
  {
   "cell_type": "code",
   "execution_count": 24,
   "id": "0d42c18c",
   "metadata": {},
   "outputs": [
    {
     "data": {
      "text/plain": [
       "(torch.Size([1024, 25]), torch.Size([1024]))"
      ]
     },
     "execution_count": 24,
     "metadata": {},
     "output_type": "execute_result"
    }
   ],
   "source": [
    "test_dataloader = format_test_data(df_test)\n",
    "iterable = iter(test_dataloader)\n",
    "text, label = iterable.next()\n",
    "text.shape, label.shape"
   ]
  },
  {
   "cell_type": "code",
   "execution_count": 25,
   "id": "9e01b6d6",
   "metadata": {},
   "outputs": [
    {
     "name": "stdout",
     "output_type": "stream",
     "text": [
      "Test accuracy : 88.65%\t Test Loss : 0.366\n",
      "              precision    recall  f1-score   support\n",
      "\n",
      "           0       0.90      0.88      0.89      1900\n",
      "           1       0.94      0.95      0.94      1900\n",
      "           2       0.85      0.85      0.85      1900\n",
      "           3       0.85      0.87      0.86      1900\n",
      "\n",
      "    accuracy                           0.88      7600\n",
      "   macro avg       0.88      0.88      0.88      7600\n",
      "weighted avg       0.88      0.88      0.88      7600\n",
      "\n"
     ]
    }
   ],
   "source": [
    "with torch.no_grad():\n",
    "    y_global, y_pred_global = [], []\n",
    "    test_loss_list, test_acc_list = [], []\n",
    "    for i, (X_batch, labels) in enumerate(test_dataloader):\n",
    "        X_batch = X_batch.to(device)\n",
    "        labels = labels.to(device)\n",
    "        out = model(X_batch)\n",
    "        batch_loss = criterion(out, labels)\n",
    "        test_loss_list.append(batch_loss.item())\n",
    "        _, y_pred = torch.max(out.data, dim=1)\n",
    "        test_acc_list.append(torch.sum(y_pred == labels).item() / len(labels))\n",
    "        y_global.extend(labels.detach().cpu().numpy())\n",
    "        y_pred_global.extend(y_pred.detach().cpu().numpy())\n",
    "        \n",
    "                \n",
    "    cm = confusion_matrix(y_global, y_pred_global)\n",
    "    test_loss = np.mean(test_loss_list)\n",
    "    test_acc = 100 * np.mean(test_acc_list)\n",
    "    print(f\"Test accuracy : {test_acc:.2f}%\\t Test Loss : {test_loss:.3f}\")\n",
    "    print(classification_report(y_global, y_pred_global))"
   ]
  },
  {
   "cell_type": "code",
   "execution_count": 26,
   "id": "8d9e1940",
   "metadata": {},
   "outputs": [],
   "source": [
    "def plot_heatmap(categories, confusion_matrix):\n",
    "    fig, ax = plt.subplots()\n",
    "    im = ax.imshow(cm, cmap=mpl.cm.cividis)\n",
    "    ax.set_xticks(np.arange(len(categories)), labels=categories)\n",
    "    ax.set_yticks(np.arange(len(categories)), labels=categories)\n",
    "    cbar = ax.figure.colorbar(im)\n",
    "    plt.setp(ax.get_xticklabels(), rotation=90, ha='right', rotation_mode='anchor')\n",
    "    for i in range(len(confusion_matrix)):\n",
    "        for j in range(len(confusion_matrix[0])):\n",
    "            text = ax.text(j, i, cm[i, j], ha='center', va='center', color='grey')\n",
    "    ax.set_title(\"Confusion matrix\")\n",
    "    plt.show()"
   ]
  },
  {
   "cell_type": "code",
   "execution_count": 27,
   "id": "b1379d3c",
   "metadata": {},
   "outputs": [
    {
     "data": {
      "image/png": "[encoded data removed]",
      "text/plain": [
       "<Figure size 640x480 with 2 Axes>"
      ]
     },
     "metadata": {},
     "output_type": "display_data"
    }
   ],
   "source": [
    "categories = [\"World\", \"Sports\", \"Business\", \"Sci/Tech\"]\n",
    "plot_heatmap(categories, cm)"
   ]
  },
  {
   "cell_type": "code",
   "execution_count": null,
   "id": "0a9b28d8",
   "metadata": {},
   "outputs": [],
   "source": []
  }
 ],
 "metadata": {
  "kernelspec": {
   "display_name": "Python 3 (ipykernel)",
   "language": "python",
   "name": "python3"
  },
  "language_info": {
   "codemirror_mode": {
    "name": "ipython",
    "version": 3
   },
   "file_extension": ".py",
   "mimetype": "text/x-python",
   "name": "python",
   "nbconvert_exporter": "python",
   "pygments_lexer": "ipython3",
   "version": "3.9.15"
  }
 },
 "nbformat": 4,
 "nbformat_minor": 5
}
